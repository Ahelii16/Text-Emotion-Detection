{
 "cells": [
  {
   "cell_type": "markdown",
   "metadata": {},
   "source": [
    "## Step 1- How to work with emoji package"
   ]
  },
  {
   "cell_type": "code",
   "execution_count": 27,
   "metadata": {},
   "outputs": [
    {
     "name": "stdout",
     "output_type": "stream",
     "text": [
      "Requirement already satisfied: emoji in /home/aheli/anaconda3/lib/python3.7/site-packages (0.5.4)\n",
      "\u001b[33mWARNING: You are using pip version 20.1.1; however, version 20.2.3 is available.\n",
      "You should consider upgrading via the '/home/aheli/anaconda3/bin/python -m pip install --upgrade pip' command.\u001b[0m\n"
     ]
    }
   ],
   "source": [
    "!pip install emoji"
   ]
  },
  {
   "cell_type": "code",
   "execution_count": 61,
   "metadata": {},
   "outputs": [],
   "source": [
    "import emoji as emoji"
   ]
  },
  {
   "cell_type": "code",
   "execution_count": 62,
   "metadata": {},
   "outputs": [],
   "source": [
    "emoji_dictionary = {\"0\": \"\\u2764\\uFE0F\",    # :heart: prints a black instead of red heart depending on the font\n",
    "                    \"1\": \":baseball:\",\n",
    "                    \"2\": \":beaming_face_with_smiling_eyes:\",\n",
    "                    \"3\": \":downcast_face_with_sweat:\",\n",
    "                    \"4\": \":fork_and_knife:\",\n",
    "                   }"
   ]
  },
  {
   "cell_type": "code",
   "execution_count": 63,
   "metadata": {},
   "outputs": [
    {
     "data": {
      "text/plain": [
       "'🍴'"
      ]
     },
     "execution_count": 63,
     "metadata": {},
     "output_type": "execute_result"
    }
   ],
   "source": [
    "emoji.emojize(\":fork_and_knife:\")"
   ]
  },
  {
   "cell_type": "code",
   "execution_count": 64,
   "metadata": {},
   "outputs": [
    {
     "name": "stdout",
     "output_type": "stream",
     "text": [
      "❤️\n",
      "⚾\n",
      "😁\n",
      "😓\n",
      "🍴\n"
     ]
    }
   ],
   "source": [
    "for e in emoji_dictionary.values():\n",
    "    print(emoji.emojize(e))"
   ]
  },
  {
   "cell_type": "code",
   "execution_count": 65,
   "metadata": {},
   "outputs": [],
   "source": [
    "#we are going to use these 5 emojis as a sentiment analysis o/p (5 o/p classes)"
   ]
  },
  {
   "cell_type": "markdown",
   "metadata": {},
   "source": [
    "## Step 2: Processing a custom dataset"
   ]
  },
  {
   "cell_type": "code",
   "execution_count": 66,
   "metadata": {},
   "outputs": [],
   "source": [
    "import numpy as np\n",
    "import pandas as pd"
   ]
  },
  {
   "cell_type": "code",
   "execution_count": 67,
   "metadata": {},
   "outputs": [],
   "source": [
    "train = pd.read_csv('dataset/train_emoji.csv',header=None)\n",
    "test = pd.read_csv('dataset/test_emoji.csv',header=None)"
   ]
  },
  {
   "cell_type": "code",
   "execution_count": 68,
   "metadata": {},
   "outputs": [
    {
     "data": {
      "text/html": [
       "<div>\n",
       "<style scoped>\n",
       "    .dataframe tbody tr th:only-of-type {\n",
       "        vertical-align: middle;\n",
       "    }\n",
       "\n",
       "    .dataframe tbody tr th {\n",
       "        vertical-align: top;\n",
       "    }\n",
       "\n",
       "    .dataframe thead th {\n",
       "        text-align: right;\n",
       "    }\n",
       "</style>\n",
       "<table border=\"1\" class=\"dataframe\">\n",
       "  <thead>\n",
       "    <tr style=\"text-align: right;\">\n",
       "      <th></th>\n",
       "      <th>0</th>\n",
       "      <th>1</th>\n",
       "      <th>2</th>\n",
       "      <th>3</th>\n",
       "    </tr>\n",
       "  </thead>\n",
       "  <tbody>\n",
       "    <tr>\n",
       "      <th>0</th>\n",
       "      <td>never talk to me again</td>\n",
       "      <td>3</td>\n",
       "      <td>NaN</td>\n",
       "      <td>NaN</td>\n",
       "    </tr>\n",
       "    <tr>\n",
       "      <th>1</th>\n",
       "      <td>I am proud of your achievements</td>\n",
       "      <td>2</td>\n",
       "      <td>NaN</td>\n",
       "      <td>NaN</td>\n",
       "    </tr>\n",
       "    <tr>\n",
       "      <th>2</th>\n",
       "      <td>It is the worst day in my life</td>\n",
       "      <td>3</td>\n",
       "      <td>NaN</td>\n",
       "      <td>NaN</td>\n",
       "    </tr>\n",
       "    <tr>\n",
       "      <th>3</th>\n",
       "      <td>Miss you so much</td>\n",
       "      <td>0</td>\n",
       "      <td>NaN</td>\n",
       "      <td>[0]</td>\n",
       "    </tr>\n",
       "    <tr>\n",
       "      <th>4</th>\n",
       "      <td>food is life</td>\n",
       "      <td>4</td>\n",
       "      <td>NaN</td>\n",
       "      <td>NaN</td>\n",
       "    </tr>\n",
       "  </tbody>\n",
       "</table>\n",
       "</div>"
      ],
      "text/plain": [
       "                                 0  1   2     3\n",
       "0           never talk to me again  3 NaN   NaN\n",
       "1  I am proud of your achievements  2 NaN   NaN\n",
       "2   It is the worst day in my life  3 NaN   NaN\n",
       "3                 Miss you so much  0 NaN   [0]\n",
       "4                     food is life  4 NaN   NaN"
      ]
     },
     "execution_count": 68,
     "metadata": {},
     "output_type": "execute_result"
    }
   ],
   "source": [
    "train.head() #last 2 columns not useful"
   ]
  },
  {
   "cell_type": "code",
   "execution_count": 69,
   "metadata": {},
   "outputs": [
    {
     "name": "stdout",
     "output_type": "stream",
     "text": [
      "never talk to me again 😓\n",
      "I am proud of your achievements 😁\n",
      "It is the worst day in my life 😓\n",
      "Miss you so much ❤️\n",
      "food is life 🍴\n",
      "I love you mum ❤️\n",
      "Stop saying bullshit 😓\n",
      "congratulations on your acceptance 😁\n",
      "The assignment is too long  😓\n",
      "I want to go play ⚾\n"
     ]
    }
   ],
   "source": [
    "#print the sentences with emojis\n",
    "data = train.values\n",
    "for i in range(10):\n",
    "    print(data[i][0],emoji.emojize(emoji_dictionary[str(data[i][1])]))"
   ]
  },
  {
   "cell_type": "code",
   "execution_count": 70,
   "metadata": {},
   "outputs": [],
   "source": [
    "#convert sentences to embeddings and emojis to one-hot vectors"
   ]
  },
  {
   "cell_type": "code",
   "execution_count": 71,
   "metadata": {},
   "outputs": [
    {
     "name": "stdout",
     "output_type": "stream",
     "text": [
      "400000\n"
     ]
    }
   ],
   "source": [
    "embeddings = {}\n",
    "with open('glove.6B.50d.txt',encoding='utf-8') as f:\n",
    "    for line in f:\n",
    "        values = line.split()\n",
    "        word = values[0]\n",
    "        coeffs = np.asarray(values[1:],dtype='float32')\n",
    "        embeddings[word] = coeffs\n",
    "    f.close()\n",
    "print(len(embeddings))"
   ]
  },
  {
   "cell_type": "markdown",
   "metadata": {},
   "source": [
    "## Step 4 - Converting sentences to vectors (creating the o/p of embedding layer)"
   ]
  },
  {
   "cell_type": "code",
   "execution_count": 72,
   "metadata": {},
   "outputs": [],
   "source": [
    "def getOutputEmbeddings(X):\n",
    "    \n",
    "    #let 10 is max len of sentence, 50 batch size (no. of e.g.)\n",
    "    embedding_matrix_output = np.zeros((X.shape[0],10,50))\n",
    "    \n",
    "    for ix in range(X.shape[0]):\n",
    "        X[ix] = X[ix].split()\n",
    "        for jx in range(len(X[ix])):\n",
    "            #go to every word in current(ix) sentence\n",
    "            embedding_matrix_output[ix][jx] = embeddings[X[ix][jx].lower()]\n",
    "            \n",
    "    return embedding_matrix_output"
   ]
  },
  {
   "cell_type": "code",
   "execution_count": 73,
   "metadata": {},
   "outputs": [],
   "source": [
    "from keras.utils import to_categorical"
   ]
  },
  {
   "cell_type": "code",
   "execution_count": 74,
   "metadata": {},
   "outputs": [
    {
     "name": "stdout",
     "output_type": "stream",
     "text": [
      "never talk to me again\n",
      "(188,)\n",
      "(5,)\n"
     ]
    }
   ],
   "source": [
    "XT = train[0]\n",
    "Xt = test[0]\n",
    "\n",
    "YT = to_categorical(train[1], num_classes=5)\n",
    "Yt = to_categorical(test[1], num_classes=5)\n",
    "\n",
    "print(XT[0])\n",
    "print(XT.shape)\n",
    "print(Xt.shape)\n",
    "# print(YT.shape)\n",
    "# print(Yt.shape)"
   ]
  },
  {
   "cell_type": "code",
   "execution_count": 75,
   "metadata": {},
   "outputs": [
    {
     "name": "stdout",
     "output_type": "stream",
     "text": [
      "['never', 'talk', 'to', 'me', 'again']\n"
     ]
    },
    {
     "name": "stderr",
     "output_type": "stream",
     "text": [
      "/home/aheli/anaconda3/lib/python3.7/site-packages/ipykernel_launcher.py:7: SettingWithCopyWarning: \n",
      "A value is trying to be set on a copy of a slice from a DataFrame\n",
      "\n",
      "See the caveats in the documentation: https://pandas.pydata.org/pandas-docs/stable/user_guide/indexing.html#returning-a-view-versus-a-copy\n",
      "  import sys\n"
     ]
    }
   ],
   "source": [
    "embed_matrix_train = getOutputEmbeddings(XT)\n",
    "embed_matrix_test = getOutputEmbeddings(Xt)\n",
    "\n",
    "print(XT[0])"
   ]
  },
  {
   "cell_type": "code",
   "execution_count": 76,
   "metadata": {},
   "outputs": [
    {
     "name": "stdout",
     "output_type": "stream",
     "text": [
      "(188, 10, 50)\n",
      "(5, 10, 50)\n"
     ]
    }
   ],
   "source": [
    "print(embed_matrix_train.shape)\n",
    "print(embed_matrix_test.shape)\n"
   ]
  },
  {
   "cell_type": "markdown",
   "metadata": {},
   "source": [
    "## Step 5: Define stacked RNN/LSTM model "
   ]
  },
  {
   "cell_type": "code",
   "execution_count": 77,
   "metadata": {},
   "outputs": [],
   "source": [
    "from keras.layers import *\n",
    "from keras.models import Sequential"
   ]
  },
  {
   "cell_type": "code",
   "execution_count": 78,
   "metadata": {},
   "outputs": [
    {
     "name": "stdout",
     "output_type": "stream",
     "text": [
      "Model: \"sequential_2\"\n",
      "_________________________________________________________________\n",
      "Layer (type)                 Output Shape              Param #   \n",
      "=================================================================\n",
      "lstm_3 (LSTM)                (None, 10, 64)            29440     \n",
      "_________________________________________________________________\n",
      "dropout_3 (Dropout)          (None, 10, 64)            0         \n",
      "_________________________________________________________________\n",
      "lstm_4 (LSTM)                (None, 64)                33024     \n",
      "_________________________________________________________________\n",
      "dropout_4 (Dropout)          (None, 64)                0         \n",
      "_________________________________________________________________\n",
      "dense_2 (Dense)              (None, 5)                 325       \n",
      "_________________________________________________________________\n",
      "activation_2 (Activation)    (None, 5)                 0         \n",
      "=================================================================\n",
      "Total params: 62,789\n",
      "Trainable params: 62,789\n",
      "Non-trainable params: 0\n",
      "_________________________________________________________________\n"
     ]
    }
   ],
   "source": [
    "model = Sequential()\n",
    "model.add(LSTM(64,input_shape=(10,50),return_sequences=True)) #hidden state: 64 dim\n",
    "model.add(Dropout(0.4))\n",
    "model.add(LSTM(64,input_shape=(10,50), return_sequences=False))\n",
    "model.add(Dropout(0.3))\n",
    "model.add(Dense(5))\n",
    "model.add(Activation('softmax'))\n",
    "model.compile(optimizer='adam',loss='categorical_crossentropy',metrics=['acc'])\n",
    "model.summary()"
   ]
  },
  {
   "cell_type": "code",
   "execution_count": 79,
   "metadata": {},
   "outputs": [],
   "source": [
    "# TRAIN MODEL"
   ]
  },
  {
   "cell_type": "code",
   "execution_count": 80,
   "metadata": {},
   "outputs": [
    {
     "name": "stdout",
     "output_type": "stream",
     "text": [
      "Train on 150 samples, validate on 38 samples\n",
      "Epoch 1/40\n",
      "150/150 [==============================] - 1s 9ms/step - loss: 1.5874 - acc: 0.2733 - val_loss: 1.5662 - val_acc: 0.2632\n",
      "\n",
      "Epoch 00001: val_loss improved from inf to 1.56619, saving model to best_model.h5\n",
      "Epoch 2/40\n",
      "150/150 [==============================] - 0s 630us/step - loss: 1.5260 - acc: 0.3267 - val_loss: 1.5284 - val_acc: 0.2895\n",
      "\n",
      "Epoch 00002: val_loss improved from 1.56619 to 1.52837, saving model to best_model.h5\n",
      "Epoch 3/40\n",
      "150/150 [==============================] - 0s 898us/step - loss: 1.4697 - acc: 0.3733 - val_loss: 1.4831 - val_acc: 0.2632\n",
      "\n",
      "Epoch 00003: val_loss improved from 1.52837 to 1.48312, saving model to best_model.h5\n",
      "Epoch 4/40\n",
      "150/150 [==============================] - 0s 799us/step - loss: 1.4402 - acc: 0.4200 - val_loss: 1.4434 - val_acc: 0.2895\n",
      "\n",
      "Epoch 00004: val_loss improved from 1.48312 to 1.44338, saving model to best_model.h5\n",
      "Epoch 5/40\n",
      "150/150 [==============================] - 0s 1ms/step - loss: 1.3327 - acc: 0.5133 - val_loss: 1.3925 - val_acc: 0.3947\n",
      "\n",
      "Epoch 00005: val_loss improved from 1.44338 to 1.39250, saving model to best_model.h5\n",
      "Epoch 6/40\n",
      "150/150 [==============================] - 0s 902us/step - loss: 1.2700 - acc: 0.4800 - val_loss: 1.3189 - val_acc: 0.4474\n",
      "\n",
      "Epoch 00006: val_loss improved from 1.39250 to 1.31895, saving model to best_model.h5\n",
      "Epoch 7/40\n",
      "150/150 [==============================] - 0s 1ms/step - loss: 1.1612 - acc: 0.5267 - val_loss: 1.2574 - val_acc: 0.4474\n",
      "\n",
      "Epoch 00007: val_loss improved from 1.31895 to 1.25744, saving model to best_model.h5\n",
      "Epoch 8/40\n",
      "150/150 [==============================] - 0s 997us/step - loss: 1.0793 - acc: 0.5933 - val_loss: 1.2296 - val_acc: 0.4474\n",
      "\n",
      "Epoch 00008: val_loss improved from 1.25744 to 1.22957, saving model to best_model.h5\n",
      "Epoch 9/40\n",
      "150/150 [==============================] - 0s 915us/step - loss: 0.9360 - acc: 0.6467 - val_loss: 1.1789 - val_acc: 0.5000\n",
      "\n",
      "Epoch 00009: val_loss improved from 1.22957 to 1.17894, saving model to best_model.h5\n",
      "Epoch 10/40\n",
      "150/150 [==============================] - 0s 1ms/step - loss: 0.8789 - acc: 0.7133 - val_loss: 1.1199 - val_acc: 0.6053\n",
      "\n",
      "Epoch 00010: val_loss improved from 1.17894 to 1.11987, saving model to best_model.h5\n",
      "Epoch 11/40\n",
      "150/150 [==============================] - 0s 938us/step - loss: 0.7495 - acc: 0.7400 - val_loss: 1.0932 - val_acc: 0.5789\n",
      "\n",
      "Epoch 00011: val_loss improved from 1.11987 to 1.09319, saving model to best_model.h5\n",
      "Epoch 12/40\n",
      "150/150 [==============================] - 0s 984us/step - loss: 0.6627 - acc: 0.7667 - val_loss: 1.0778 - val_acc: 0.5526\n",
      "\n",
      "Epoch 00012: val_loss improved from 1.09319 to 1.07781, saving model to best_model.h5\n",
      "Epoch 13/40\n",
      "150/150 [==============================] - 0s 952us/step - loss: 0.5598 - acc: 0.8267 - val_loss: 1.1147 - val_acc: 0.5789\n",
      "\n",
      "Epoch 00013: val_loss did not improve from 1.07781\n",
      "Epoch 14/40\n",
      "150/150 [==============================] - 0s 901us/step - loss: 0.5468 - acc: 0.8000 - val_loss: 1.1567 - val_acc: 0.5526\n",
      "\n",
      "Epoch 00014: val_loss did not improve from 1.07781\n",
      "Epoch 15/40\n",
      "150/150 [==============================] - 0s 1ms/step - loss: 0.5136 - acc: 0.8133 - val_loss: 1.1209 - val_acc: 0.5789\n",
      "\n",
      "Epoch 00015: val_loss did not improve from 1.07781\n",
      "Epoch 16/40\n",
      "150/150 [==============================] - 0s 931us/step - loss: 0.4853 - acc: 0.8400 - val_loss: 1.0797 - val_acc: 0.6053\n",
      "\n",
      "Epoch 00016: val_loss did not improve from 1.07781\n",
      "Epoch 17/40\n",
      "150/150 [==============================] - 0s 915us/step - loss: 0.3361 - acc: 0.8933 - val_loss: 1.1225 - val_acc: 0.5789\n",
      "\n",
      "Epoch 00017: val_loss did not improve from 1.07781\n",
      "Epoch 18/40\n",
      "150/150 [==============================] - 0s 904us/step - loss: 0.3168 - acc: 0.9000 - val_loss: 1.1462 - val_acc: 0.5263\n",
      "\n",
      "Epoch 00018: val_loss did not improve from 1.07781\n",
      "Epoch 19/40\n",
      "150/150 [==============================] - 0s 885us/step - loss: 0.3573 - acc: 0.8933 - val_loss: 1.1401 - val_acc: 0.6579\n",
      "\n",
      "Epoch 00019: val_loss did not improve from 1.07781\n",
      "Epoch 20/40\n",
      "150/150 [==============================] - 0s 1ms/step - loss: 0.2905 - acc: 0.8867 - val_loss: 1.2159 - val_acc: 0.5526\n",
      "\n",
      "Epoch 00020: val_loss did not improve from 1.07781\n",
      "Epoch 21/40\n",
      "150/150 [==============================] - 0s 988us/step - loss: 0.2987 - acc: 0.8867 - val_loss: 1.1750 - val_acc: 0.6316\n",
      "\n",
      "Epoch 00021: val_loss did not improve from 1.07781\n",
      "Epoch 22/40\n",
      "150/150 [==============================] - 0s 1ms/step - loss: 0.2389 - acc: 0.9133 - val_loss: 1.1317 - val_acc: 0.6842\n",
      "\n",
      "Epoch 00022: val_loss did not improve from 1.07781\n",
      "Epoch 23/40\n",
      "150/150 [==============================] - 0s 952us/step - loss: 0.2887 - acc: 0.9000 - val_loss: 1.1731 - val_acc: 0.6579\n",
      "\n",
      "Epoch 00023: val_loss did not improve from 1.07781\n",
      "Epoch 24/40\n",
      "150/150 [==============================] - 0s 1ms/step - loss: 0.2245 - acc: 0.9267 - val_loss: 1.3546 - val_acc: 0.5789\n",
      "\n",
      "Epoch 00024: val_loss did not improve from 1.07781\n",
      "Epoch 25/40\n",
      "150/150 [==============================] - 0s 861us/step - loss: 0.1923 - acc: 0.9333 - val_loss: 1.3053 - val_acc: 0.5000\n",
      "\n",
      "Epoch 00025: val_loss did not improve from 1.07781\n",
      "Epoch 26/40\n",
      "150/150 [==============================] - 0s 904us/step - loss: 0.2257 - acc: 0.9067 - val_loss: 1.2802 - val_acc: 0.5789\n",
      "\n",
      "Epoch 00026: val_loss did not improve from 1.07781\n",
      "Epoch 27/40\n",
      "150/150 [==============================] - 0s 1ms/step - loss: 0.1258 - acc: 0.9733 - val_loss: 1.2275 - val_acc: 0.6579\n",
      "\n",
      "Epoch 00027: val_loss did not improve from 1.07781\n",
      "Epoch 28/40\n",
      "150/150 [==============================] - 0s 897us/step - loss: 0.2382 - acc: 0.9267 - val_loss: 1.2520 - val_acc: 0.6053\n",
      "\n",
      "Epoch 00028: val_loss did not improve from 1.07781\n",
      "Epoch 29/40\n",
      "150/150 [==============================] - 0s 929us/step - loss: 0.1748 - acc: 0.9533 - val_loss: 1.2983 - val_acc: 0.5789\n",
      "\n",
      "Epoch 00029: val_loss did not improve from 1.07781\n",
      "Epoch 30/40\n",
      "150/150 [==============================] - 0s 912us/step - loss: 0.1951 - acc: 0.9400 - val_loss: 1.3873 - val_acc: 0.5789\n",
      "\n",
      "Epoch 00030: val_loss did not improve from 1.07781\n",
      "Epoch 31/40\n",
      "150/150 [==============================] - 0s 924us/step - loss: 0.1323 - acc: 0.9600 - val_loss: 1.2649 - val_acc: 0.6053\n",
      "\n",
      "Epoch 00031: val_loss did not improve from 1.07781\n",
      "Epoch 32/40\n",
      "150/150 [==============================] - 0s 729us/step - loss: 0.1222 - acc: 0.9600 - val_loss: 1.3054 - val_acc: 0.5789\n",
      "\n",
      "Epoch 00032: val_loss did not improve from 1.07781\n"
     ]
    }
   ],
   "source": [
    "from keras.callbacks import EarlyStopping\n",
    "from keras.callbacks import ModelCheckpoint\n",
    "\n",
    "checkpt = ModelCheckpoint(\"best_model.h5\", monitor='val_loss', verbose=True, save_best_only=True)\n",
    "earlystop = EarlyStopping(monitor='val_acc', patience=10)\n",
    "\n",
    "hist = model.fit(embed_matrix_train,YT,batch_size=32,epochs=40,shuffle=True,validation_split=0.2, callbacks=[checkpt, earlystop])"
   ]
  },
  {
   "cell_type": "code",
   "execution_count": 81,
   "metadata": {},
   "outputs": [
    {
     "name": "stdout",
     "output_type": "stream",
     "text": [
      "[3 2 1 1 0]\n"
     ]
    }
   ],
   "source": [
    "pred = model.predict_classes(embed_matrix_test)\n",
    "\n",
    "print(pred)"
   ]
  },
  {
   "cell_type": "code",
   "execution_count": 84,
   "metadata": {},
   "outputs": [
    {
     "name": "stdout",
     "output_type": "stream",
     "text": [
      "\r",
      "5/5 [==============================] - 0s 979us/step\n"
     ]
    },
    {
     "data": {
      "text/plain": [
       "[0.0616346076130867, 1.0]"
      ]
     },
     "execution_count": 84,
     "metadata": {},
     "output_type": "execute_result"
    }
   ],
   "source": [
    "model.evaluate(embed_matrix_test,Yt)"
   ]
  },
  {
   "cell_type": "markdown",
   "metadata": {},
   "source": [
    "## Step 6: Predictions (i/p: sentence  o/p: most suitable emoji)"
   ]
  },
  {
   "cell_type": "code",
   "execution_count": 83,
   "metadata": {},
   "outputs": [
    {
     "name": "stdout",
     "output_type": "stream",
     "text": [
      "He is ignoring my texts\n",
      "😓\n",
      "😓\n",
      "I had such a fun weekend at Manali\n",
      "😁\n",
      "😁\n",
      "She is playing basketball with her friends\n",
      "⚾\n",
      "⚾\n",
      "I won the first prize in the race\n",
      "⚾\n",
      "⚾\n",
      "My mom cooks so well\n",
      "❤️\n",
      "❤️\n"
     ],
    },
   ],
   "source": [
    "for i in range(30):\n",
    "    print(' '.join(Xt[i]))\n",
    "    print(emoji.emojize(emoji_dictionary[str(np.argmax(Yt[i]))]))\n",
    "    print(emoji.emojize(emoji_dictionary[str(pred[i])]))"
   ]
  },
  {
   "cell_type": "markdown",
   "metadata": {},
   "source": [
    "## Django application"
   ]
  },
  {
   "cell_type": "code",
   "execution_count": 85,
   "metadata": {},
   "outputs": [],
   "source": [
    "with open(\"model.json\", \"w\") as file:\n",
    "    file.write(model.to_json())\n",
    "model.save_weights(\"model.h5\")"
   ]
  },
  {
   "cell_type": "code",
   "execution_count": 86,
   "metadata": {},
   "outputs": [],
   "source": [
    "from keras.models import model_from_json"
   ]
  },
  {
   "cell_type": "code",
   "execution_count": 87,
   "metadata": {},
   "outputs": [],
   "source": [
    "with open(\"model.json\", \"r\") as file:\n",
    "    model=model_from_json(file.read())\n",
    "model.load_weights(\"model.h5\")"
   ]
  },
  {
   "cell_type": "code",
   "execution_count": 88,
   "metadata": {},
   "outputs": [
    {
     "name": "stdout",
     "output_type": "stream",
     "text": [
      "<class 'pandas.core.series.Series'>\n"
     ]
    }
   ],
   "source": [
    "test_str=\"hello how are you\"\n",
    "X = pd.Series(test_str)\n",
    "print(type(X))"
   ]
  },
  {
   "cell_type": "code",
   "execution_count": 89,
   "metadata": {},
   "outputs": [],
   "source": [
    "def getOutputEmbeddings(X):\n",
    "    \n",
    "#     embedding_matrix_output = np.zeros((X.shape[0],10,50))\n",
    "    \n",
    "#     for ix in range(X.shape[0]):\n",
    "#         X[ix] = X[ix].split()\n",
    "#         for jx in range(len(X[ix])):\n",
    "#             #go to every word in current(ix) sentence\n",
    "#             embedding_matrix_output[ix][jx] = embeddings[X[ix][jx].lower()]\n",
    "            \n",
    "    \n",
    "    X = X.split()\n",
    "    embedding_matrix_output = np.zeros((1,10,50))\n",
    "    for jx in range(len(X)):\n",
    "        #go to every word in current(ix) sentence\n",
    "        embedding_matrix_output[0][jx] = embeddings[X[jx].lower()]\n",
    "            \n",
    "    return embedding_matrix_output"
   ]
  },
  {
   "cell_type": "code",
   "execution_count": 123,
   "metadata": {},
   "outputs": [
    {
     "data": {
      "text/plain": [
       "2"
      ]
     },
     "execution_count": 123,
     "metadata": {},
     "output_type": "execute_result"
    }
   ],
   "source": [
    "p[0]"
   ]
  },
  {
   "cell_type": "code",
   "execution_count": null,
   "metadata": {},
   "outputs": [],
   "source": []
  }
 ],
 "metadata": {
  "kernelspec": {
   "display_name": "Python 3",
   "language": "python",
   "name": "python3"
  },
  "language_info": {
   "codemirror_mode": {
    "name": "ipython",
    "version": 3
   },
   "file_extension": ".py",
   "mimetype": "text/x-python",
   "name": "python",
   "nbconvert_exporter": "python",
   "pygments_lexer": "ipython3",
   "version": "3.7.6"
  }
 },
 "nbformat": 4,
 "nbformat_minor": 2
}
